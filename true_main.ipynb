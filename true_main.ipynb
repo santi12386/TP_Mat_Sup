{
 "cells": [
  {
   "cell_type": "markdown",
   "id": "fb92c6ea",
   "metadata": {},
   "source": [
    "## TP Matematica Superior K3052 - Santiago Ozan\n",
    "\n",
    "Este trabajo practico esta desarrollado en python usando librerias de pandas y matplotlib\n",
    "\n",
    "https://github.com/santi12386/TP_Mat_Sup"
   ]
  },
  {
   "cell_type": "code",
   "execution_count": 35,
   "id": "c907e553",
   "metadata": {},
   "outputs": [],
   "source": [
    "import numpy as np\n",
    "import pandas as pd\n",
    "import matplotlib.pyplot as plt"
   ]
  },
  {
   "cell_type": "code",
   "execution_count": 36,
   "id": "b7989e3c",
   "metadata": {},
   "outputs": [],
   "source": [
    "datos_matrix = np.matrix('0.2 0.6 1.2 1.9 2.8 3.5 3.7 4.3 4.9 5.7 6.1 6.5; 2.36 2.55 2.89 3.34 3.98 4.87 5.65 6.83 7.92 9.44 11.04 12.89')\n",
    "datos_matrix\n",
    "\n",
    "datos = pd.DataFrame(datos_matrix)\n",
    "    "
   ]
  },
  {
   "cell_type": "code",
   "execution_count": 37,
   "id": "997659ab",
   "metadata": {},
   "outputs": [
    {
     "data": {
      "text/html": [
       "<div>\n",
       "<style scoped>\n",
       "    .dataframe tbody tr th:only-of-type {\n",
       "        vertical-align: middle;\n",
       "    }\n",
       "\n",
       "    .dataframe tbody tr th {\n",
       "        vertical-align: top;\n",
       "    }\n",
       "\n",
       "    .dataframe thead th {\n",
       "        text-align: right;\n",
       "    }\n",
       "</style>\n",
       "<table border=\"1\" class=\"dataframe\">\n",
       "  <thead>\n",
       "    <tr style=\"text-align: right;\">\n",
       "      <th></th>\n",
       "      <th>X</th>\n",
       "      <th>Y</th>\n",
       "    </tr>\n",
       "  </thead>\n",
       "  <tbody>\n",
       "    <tr>\n",
       "      <th>0</th>\n",
       "      <td>0.2</td>\n",
       "      <td>2.36</td>\n",
       "    </tr>\n",
       "    <tr>\n",
       "      <th>1</th>\n",
       "      <td>0.6</td>\n",
       "      <td>2.55</td>\n",
       "    </tr>\n",
       "    <tr>\n",
       "      <th>2</th>\n",
       "      <td>1.2</td>\n",
       "      <td>2.89</td>\n",
       "    </tr>\n",
       "    <tr>\n",
       "      <th>3</th>\n",
       "      <td>1.9</td>\n",
       "      <td>3.34</td>\n",
       "    </tr>\n",
       "    <tr>\n",
       "      <th>4</th>\n",
       "      <td>2.8</td>\n",
       "      <td>3.98</td>\n",
       "    </tr>\n",
       "    <tr>\n",
       "      <th>5</th>\n",
       "      <td>3.5</td>\n",
       "      <td>4.87</td>\n",
       "    </tr>\n",
       "    <tr>\n",
       "      <th>6</th>\n",
       "      <td>3.7</td>\n",
       "      <td>5.65</td>\n",
       "    </tr>\n",
       "    <tr>\n",
       "      <th>7</th>\n",
       "      <td>4.3</td>\n",
       "      <td>6.83</td>\n",
       "    </tr>\n",
       "    <tr>\n",
       "      <th>8</th>\n",
       "      <td>4.9</td>\n",
       "      <td>7.92</td>\n",
       "    </tr>\n",
       "    <tr>\n",
       "      <th>9</th>\n",
       "      <td>5.7</td>\n",
       "      <td>9.44</td>\n",
       "    </tr>\n",
       "    <tr>\n",
       "      <th>10</th>\n",
       "      <td>6.1</td>\n",
       "      <td>11.04</td>\n",
       "    </tr>\n",
       "    <tr>\n",
       "      <th>11</th>\n",
       "      <td>6.5</td>\n",
       "      <td>12.89</td>\n",
       "    </tr>\n",
       "  </tbody>\n",
       "</table>\n",
       "</div>"
      ],
      "text/plain": [
       "      X      Y\n",
       "0   0.2   2.36\n",
       "1   0.6   2.55\n",
       "2   1.2   2.89\n",
       "3   1.9   3.34\n",
       "4   2.8   3.98\n",
       "5   3.5   4.87\n",
       "6   3.7   5.65\n",
       "7   4.3   6.83\n",
       "8   4.9   7.92\n",
       "9   5.7   9.44\n",
       "10  6.1  11.04\n",
       "11  6.5  12.89"
      ]
     },
     "execution_count": 37,
     "metadata": {},
     "output_type": "execute_result"
    }
   ],
   "source": [
    "aux = pd.DataFrame(np.asarray(datos).transpose())\n",
    "datos_dataframe = aux.rename(columns={0: \"X\", 1: \"Y\"})\n",
    "datos_dataframe"
   ]
  },
  {
   "cell_type": "markdown",
   "id": "ad66bd0b",
   "metadata": {},
   "source": [
    "# Punto a)\n",
    "Grafico de la nube de puntos"
   ]
  },
  {
   "cell_type": "code",
   "execution_count": 38,
   "id": "28d26455",
   "metadata": {
    "scrolled": true
   },
   "outputs": [
    {
     "data": {
      "text/plain": [
       "[<matplotlib.lines.Line2D at 0x7f53529c8190>]"
      ]
     },
     "execution_count": 38,
     "metadata": {},
     "output_type": "execute_result"
    },
    {
     "data": {
      "image/png": "[encoded data removed]",
      "text/plain": [
       "<Figure size 432x288 with 1 Axes>"
      ]
     },
     "metadata": {
      "needs_background": "light"
     },
     "output_type": "display_data"
    }
   ],
   "source": [
    "plt.plot(datos_dataframe['X'], datos_dataframe['Y'], 'o')"
   ]
  },
  {
   "cell_type": "markdown",
   "id": "ab15a697",
   "metadata": {},
   "source": [
    "# Punto b)\n",
    "\n",
    "Recta de minimos cuadrados:\n",
    "\n",
    "Expresion aproximante:\n",
    "$$P(x)=A_1*x+A_2$$"
   ]
  },
  {
   "cell_type": "markdown",
   "id": "480cbdf3",
   "metadata": {},
   "source": [
    "Sistema de ecuaciones normales:\n",
    "$$A_1\\sum_{n=0}^{11}{x_i}^2+A_2\\sum_{n=0}^{11}{x_i} =\\sum_{n=0}^{11}{f({x_i}){x_i}}$$\n",
    "\n",
    "$$A_1\\sum_{n=0}^{11}{x_i}+A_2*n=\\sum_{n=0}^{11}{f({x_i})}$$"
   ]
  },
  {
   "cell_type": "code",
   "execution_count": 39,
   "id": "3ea6e7ba",
   "metadata": {},
   "outputs": [
    {
     "data": {
      "text/html": [
       "<div>\n",
       "<style scoped>\n",
       "    .dataframe tbody tr th:only-of-type {\n",
       "        vertical-align: middle;\n",
       "    }\n",
       "\n",
       "    .dataframe tbody tr th {\n",
       "        vertical-align: top;\n",
       "    }\n",
       "\n",
       "    .dataframe thead th {\n",
       "        text-align: right;\n",
       "    }\n",
       "</style>\n",
       "<table border=\"1\" class=\"dataframe\">\n",
       "  <thead>\n",
       "    <tr style=\"text-align: right;\">\n",
       "      <th></th>\n",
       "      <th>Xi</th>\n",
       "      <th>Yi</th>\n",
       "      <th>Xi^2</th>\n",
       "      <th>Xi Yi</th>\n",
       "    </tr>\n",
       "  </thead>\n",
       "  <tbody>\n",
       "    <tr>\n",
       "      <th>0</th>\n",
       "      <td>0.2</td>\n",
       "      <td>2.36</td>\n",
       "      <td>0.04</td>\n",
       "      <td>0.472</td>\n",
       "    </tr>\n",
       "    <tr>\n",
       "      <th>1</th>\n",
       "      <td>0.6</td>\n",
       "      <td>2.55</td>\n",
       "      <td>0.36</td>\n",
       "      <td>1.530</td>\n",
       "    </tr>\n",
       "    <tr>\n",
       "      <th>2</th>\n",
       "      <td>1.2</td>\n",
       "      <td>2.89</td>\n",
       "      <td>1.44</td>\n",
       "      <td>3.468</td>\n",
       "    </tr>\n",
       "    <tr>\n",
       "      <th>3</th>\n",
       "      <td>1.9</td>\n",
       "      <td>3.34</td>\n",
       "      <td>3.61</td>\n",
       "      <td>6.346</td>\n",
       "    </tr>\n",
       "    <tr>\n",
       "      <th>4</th>\n",
       "      <td>2.8</td>\n",
       "      <td>3.98</td>\n",
       "      <td>7.84</td>\n",
       "      <td>11.144</td>\n",
       "    </tr>\n",
       "    <tr>\n",
       "      <th>5</th>\n",
       "      <td>3.5</td>\n",
       "      <td>4.87</td>\n",
       "      <td>12.25</td>\n",
       "      <td>17.045</td>\n",
       "    </tr>\n",
       "    <tr>\n",
       "      <th>6</th>\n",
       "      <td>3.7</td>\n",
       "      <td>5.65</td>\n",
       "      <td>13.69</td>\n",
       "      <td>20.905</td>\n",
       "    </tr>\n",
       "    <tr>\n",
       "      <th>7</th>\n",
       "      <td>4.3</td>\n",
       "      <td>6.83</td>\n",
       "      <td>18.49</td>\n",
       "      <td>29.369</td>\n",
       "    </tr>\n",
       "    <tr>\n",
       "      <th>8</th>\n",
       "      <td>4.9</td>\n",
       "      <td>7.92</td>\n",
       "      <td>24.01</td>\n",
       "      <td>38.808</td>\n",
       "    </tr>\n",
       "    <tr>\n",
       "      <th>9</th>\n",
       "      <td>5.7</td>\n",
       "      <td>9.44</td>\n",
       "      <td>32.49</td>\n",
       "      <td>53.808</td>\n",
       "    </tr>\n",
       "    <tr>\n",
       "      <th>10</th>\n",
       "      <td>6.1</td>\n",
       "      <td>11.04</td>\n",
       "      <td>37.21</td>\n",
       "      <td>67.344</td>\n",
       "    </tr>\n",
       "    <tr>\n",
       "      <th>11</th>\n",
       "      <td>6.5</td>\n",
       "      <td>12.89</td>\n",
       "      <td>42.25</td>\n",
       "      <td>83.785</td>\n",
       "    </tr>\n",
       "  </tbody>\n",
       "</table>\n",
       "</div>"
      ],
      "text/plain": [
       "     Xi     Yi   Xi^2   Xi Yi\n",
       "0   0.2   2.36   0.04   0.472\n",
       "1   0.6   2.55   0.36   1.530\n",
       "2   1.2   2.89   1.44   3.468\n",
       "3   1.9   3.34   3.61   6.346\n",
       "4   2.8   3.98   7.84  11.144\n",
       "5   3.5   4.87  12.25  17.045\n",
       "6   3.7   5.65  13.69  20.905\n",
       "7   4.3   6.83  18.49  29.369\n",
       "8   4.9   7.92  24.01  38.808\n",
       "9   5.7   9.44  32.49  53.808\n",
       "10  6.1  11.04  37.21  67.344\n",
       "11  6.5  12.89  42.25  83.785"
      ]
     },
     "metadata": {},
     "output_type": "display_data"
    },
    {
     "data": {
      "text/html": [
       "<div>\n",
       "<style scoped>\n",
       "    .dataframe tbody tr th:only-of-type {\n",
       "        vertical-align: middle;\n",
       "    }\n",
       "\n",
       "    .dataframe tbody tr th {\n",
       "        vertical-align: top;\n",
       "    }\n",
       "\n",
       "    .dataframe thead th {\n",
       "        text-align: right;\n",
       "    }\n",
       "</style>\n",
       "<table border=\"1\" class=\"dataframe\">\n",
       "  <thead>\n",
       "    <tr style=\"text-align: right;\">\n",
       "      <th></th>\n",
       "      <th>Xi</th>\n",
       "      <th>Yi</th>\n",
       "      <th>Xi^2</th>\n",
       "      <th>Xi Yi</th>\n",
       "    </tr>\n",
       "  </thead>\n",
       "  <tbody>\n",
       "    <tr>\n",
       "      <th>0</th>\n",
       "      <td>41.4</td>\n",
       "      <td>73.76</td>\n",
       "      <td>193.68</td>\n",
       "      <td>334.024</td>\n",
       "    </tr>\n",
       "  </tbody>\n",
       "</table>\n",
       "</div>"
      ],
      "text/plain": [
       "     Xi     Yi    Xi^2    Xi Yi\n",
       "0  41.4  73.76  193.68  334.024"
      ]
     },
     "metadata": {},
     "output_type": "display_data"
    }
   ],
   "source": [
    "xi_2 = pow(datos_dataframe['X'], 2)\n",
    "xi_yi = datos_dataframe['X']*datos_dataframe['Y']\n",
    "\n",
    "tabla1 = pd.concat([datos_dataframe['X'], datos_dataframe['Y'], xi_2, xi_yi], axis=1)\n",
    "tabla1.columns = ['Xi', 'Yi', 'Xi^2', 'Xi Yi']\n",
    "\n",
    "tabla1_sums = pd.DataFrame([sum(tabla1['Xi']), sum(tabla1['Yi']), sum(tabla1['Xi^2']), sum(tabla1['Xi Yi'])]).transpose()\n",
    "tabla1_sums.columns=['Xi', 'Yi', 'Xi^2', 'Xi Yi']\n",
    "\n",
    "display(tabla1, tabla1_sums)"
   ]
  },
  {
   "cell_type": "markdown",
   "id": "4421ed95",
   "metadata": {},
   "source": [
    "Planteo de las ecuaciones normales:\n",
    "\n",
    "$$A_1*193.68+A_2*41.4=334.024$$\n",
    "$$A_1*41.4+A_2*12=73.76$$\n",
    "\n",
    "$$A_1=\\frac{334.024-A_2*41.4}{193.68}$$\n",
    "\n",
    "$$A_2=\\frac{73.76-A_1*41.4}{12}$$\n",
    "\n",
    "Formulas de Jacobi\n",
    "$$A_1^{k+1}=-A_2^k*(41.4/193.68)+(334.024/193.68)$$\n",
    "\n",
    "$$A_2^{k+1}=-A_1^k*(41.4/12)+(73.76/12)$$"
   ]
  },
  {
   "cell_type": "code",
   "execution_count": 40,
   "id": "5fdbf5cc",
   "metadata": {},
   "outputs": [
    {
     "data": {
      "text/plain": [
       "'T de Jacobi'"
      ]
     },
     "metadata": {},
     "output_type": "display_data"
    },
    {
     "data": {
      "text/html": [
       "<div>\n",
       "<style scoped>\n",
       "    .dataframe tbody tr th:only-of-type {\n",
       "        vertical-align: middle;\n",
       "    }\n",
       "\n",
       "    .dataframe tbody tr th {\n",
       "        vertical-align: top;\n",
       "    }\n",
       "\n",
       "    .dataframe thead th {\n",
       "        text-align: right;\n",
       "    }\n",
       "</style>\n",
       "<table border=\"1\" class=\"dataframe\">\n",
       "  <thead>\n",
       "    <tr style=\"text-align: right;\">\n",
       "      <th></th>\n",
       "      <th>0</th>\n",
       "      <th>1</th>\n",
       "    </tr>\n",
       "  </thead>\n",
       "  <tbody>\n",
       "    <tr>\n",
       "      <th>0</th>\n",
       "      <td>0.00</td>\n",
       "      <td>-0.213755</td>\n",
       "    </tr>\n",
       "    <tr>\n",
       "      <th>1</th>\n",
       "      <td>-3.45</td>\n",
       "      <td>0.000000</td>\n",
       "    </tr>\n",
       "  </tbody>\n",
       "</table>\n",
       "</div>"
      ],
      "text/plain": [
       "      0         1\n",
       "0  0.00 -0.213755\n",
       "1 -3.45  0.000000"
      ]
     },
     "metadata": {},
     "output_type": "display_data"
    },
    {
     "data": {
      "text/plain": [
       "'C'"
      ]
     },
     "metadata": {},
     "output_type": "display_data"
    },
    {
     "data": {
      "text/html": [
       "<div>\n",
       "<style scoped>\n",
       "    .dataframe tbody tr th:only-of-type {\n",
       "        vertical-align: middle;\n",
       "    }\n",
       "\n",
       "    .dataframe tbody tr th {\n",
       "        vertical-align: top;\n",
       "    }\n",
       "\n",
       "    .dataframe thead th {\n",
       "        text-align: right;\n",
       "    }\n",
       "</style>\n",
       "<table border=\"1\" class=\"dataframe\">\n",
       "  <thead>\n",
       "    <tr style=\"text-align: right;\">\n",
       "      <th></th>\n",
       "      <th>0</th>\n",
       "    </tr>\n",
       "  </thead>\n",
       "  <tbody>\n",
       "    <tr>\n",
       "      <th>0</th>\n",
       "      <td>1.724618</td>\n",
       "    </tr>\n",
       "    <tr>\n",
       "      <th>1</th>\n",
       "      <td>6.146667</td>\n",
       "    </tr>\n",
       "  </tbody>\n",
       "</table>\n",
       "</div>"
      ],
      "text/plain": [
       "          0\n",
       "0  1.724618\n",
       "1  6.146667"
      ]
     },
     "metadata": {},
     "output_type": "display_data"
    },
    {
     "data": {
      "text/plain": [
       "'A Inicial'"
      ]
     },
     "metadata": {},
     "output_type": "display_data"
    },
    {
     "data": {
      "text/html": [
       "<div>\n",
       "<style scoped>\n",
       "    .dataframe tbody tr th:only-of-type {\n",
       "        vertical-align: middle;\n",
       "    }\n",
       "\n",
       "    .dataframe tbody tr th {\n",
       "        vertical-align: top;\n",
       "    }\n",
       "\n",
       "    .dataframe thead th {\n",
       "        text-align: right;\n",
       "    }\n",
       "</style>\n",
       "<table border=\"1\" class=\"dataframe\">\n",
       "  <thead>\n",
       "    <tr style=\"text-align: right;\">\n",
       "      <th></th>\n",
       "      <th>0</th>\n",
       "    </tr>\n",
       "  </thead>\n",
       "  <tbody>\n",
       "    <tr>\n",
       "      <th>0</th>\n",
       "      <td>0</td>\n",
       "    </tr>\n",
       "    <tr>\n",
       "      <th>1</th>\n",
       "      <td>0</td>\n",
       "    </tr>\n",
       "  </tbody>\n",
       "</table>\n",
       "</div>"
      ],
      "text/plain": [
       "   0\n",
       "0  0\n",
       "1  0"
      ]
     },
     "metadata": {},
     "output_type": "display_data"
    },
    {
     "data": {
      "text/plain": [
       "'A a las 100 iteraciones'"
      ]
     },
     "metadata": {},
     "output_type": "display_data"
    },
    {
     "data": {
      "text/html": [
       "<div>\n",
       "<style scoped>\n",
       "    .dataframe tbody tr th:only-of-type {\n",
       "        vertical-align: middle;\n",
       "    }\n",
       "\n",
       "    .dataframe tbody tr th {\n",
       "        vertical-align: top;\n",
       "    }\n",
       "\n",
       "    .dataframe thead th {\n",
       "        text-align: right;\n",
       "    }\n",
       "</style>\n",
       "<table border=\"1\" class=\"dataframe\">\n",
       "  <thead>\n",
       "    <tr style=\"text-align: right;\">\n",
       "      <th></th>\n",
       "      <th>0</th>\n",
       "    </tr>\n",
       "  </thead>\n",
       "  <tbody>\n",
       "    <tr>\n",
       "      <th>0</th>\n",
       "      <td>1.564444</td>\n",
       "    </tr>\n",
       "    <tr>\n",
       "      <th>1</th>\n",
       "      <td>0.749333</td>\n",
       "    </tr>\n",
       "  </tbody>\n",
       "</table>\n",
       "</div>"
      ],
      "text/plain": [
       "          0\n",
       "0  1.564444\n",
       "1  0.749333"
      ]
     },
     "metadata": {},
     "output_type": "display_data"
    }
   ],
   "source": [
    "T_Jacobi = np.matrix([[0, -41.4/193.68],[-41.4/12, 0]])\n",
    "display(\"T de Jacobi\", pd.DataFrame(T_Jacobi))\n",
    "C_Jacobi = np.matrix([[334.024/193.68],[73.76/12]])\n",
    "display(\"C\", pd.DataFrame(C_Jacobi))\n",
    "\n",
    "A_Jacobi = np.matrix([[0],[0]])\n",
    "A_Jacobi_anterior = A_Jacobi\n",
    "display(\"A Inicial\", pd.DataFrame(A_Jacobi))\n",
    "\n",
    "for i in range(0,100):\n",
    "    A_Jacobi = T_Jacobi*A_Jacobi_anterior+C_Jacobi\n",
    "    A_Jacobi_anterior = A_Jacobi\n",
    "display(\"A a las 100 iteraciones\" ,pd.DataFrame(A_Jacobi))\n"
   ]
  },
  {
   "cell_type": "markdown",
   "id": "bb650b49",
   "metadata": {},
   "source": [
    "Recta aproximante hallada:\n",
    "$$P(x)=1.564444*x+0.749333$$"
   ]
  },
  {
   "cell_type": "markdown",
   "id": "f9de4145",
   "metadata": {},
   "source": [
    "Graficos - Recta de minimos cuadrados hallada por aproximacion + nube de puntos"
   ]
  },
  {
   "cell_type": "code",
   "execution_count": 41,
   "id": "08f038a9",
   "metadata": {
    "scrolled": true
   },
   "outputs": [
    {
     "data": {
      "text/plain": [
       "[<matplotlib.lines.Line2D at 0x7f5352a0be20>]"
      ]
     },
     "execution_count": 41,
     "metadata": {},
     "output_type": "execute_result"
    },
    {
     "data": {
      "image/png": "[encoded data removed]",
      "text/plain": [
       "<Figure size 432x288 with 1 Axes>"
      ]
     },
     "metadata": {
      "needs_background": "light"
     },
     "output_type": "display_data"
    }
   ],
   "source": [
    "x = np.linspace(0,6.5,100)\n",
    "y = 1.564444*x+0.749333\n",
    "\n",
    "plt.plot(x, y, '-r', label='P(x)=1.564444*x+0.749333')\n",
    "plt.plot(datos_dataframe['X'], datos_dataframe['Y'], 'o')"
   ]
  },
  {
   "cell_type": "markdown",
   "id": "7bf02f22",
   "metadata": {},
   "source": [
    "# Punto c\n",
    "\n",
    "Parabola de minimos cuadrados\n",
    "\n",
    "Expresion aproximante:\n",
    "$$P(x)=A_1*x^2+A_2x+A_3$$"
   ]
  },
  {
   "cell_type": "markdown",
   "id": "28bfdbf9",
   "metadata": {},
   "source": [
    "Sistema de ecuaciones normales:\n",
    "$$A_1\\sum_{n=0}^{11}{x_i}^4+A_2\\sum_{n=0}^{11}{x_i}^3+A_3\\sum_{n=0}^{11}{x_i}^2=\\sum_{n=0}^{11}{f({x_i}){x_i}^2}$$\n",
    "$$A_1\\sum_{n=0}^{11}{x_i}^3+A_2\\sum_{n=0}^{11}{x_i}^2+A_3\\sum_{n=0}^{11}{x_i}=\\sum_{n=0}^{11}{f({x_i}){x_i}}$$\n",
    "$$A_1\\sum_{n=0}^{11}{x_i}^2+A_2\\sum_{n=0}^{11}{x_i}+A_3*n=\\sum_{n=0}^{11}{f({x_i})}$$\n"
   ]
  },
  {
   "cell_type": "code",
   "execution_count": 42,
   "id": "6151716c",
   "metadata": {},
   "outputs": [
    {
     "data": {
      "text/html": [
       "<div>\n",
       "<style scoped>\n",
       "    .dataframe tbody tr th:only-of-type {\n",
       "        vertical-align: middle;\n",
       "    }\n",
       "\n",
       "    .dataframe tbody tr th {\n",
       "        vertical-align: top;\n",
       "    }\n",
       "\n",
       "    .dataframe thead th {\n",
       "        text-align: right;\n",
       "    }\n",
       "</style>\n",
       "<table border=\"1\" class=\"dataframe\">\n",
       "  <thead>\n",
       "    <tr style=\"text-align: right;\">\n",
       "      <th></th>\n",
       "      <th>Xi</th>\n",
       "      <th>Yi</th>\n",
       "      <th>Xi^2</th>\n",
       "      <th>Xi^3</th>\n",
       "      <th>Xi^4</th>\n",
       "      <th>Xi Yi</th>\n",
       "      <th>Xi^2 Yi</th>\n",
       "    </tr>\n",
       "  </thead>\n",
       "  <tbody>\n",
       "    <tr>\n",
       "      <th>0</th>\n",
       "      <td>0.2</td>\n",
       "      <td>2.36</td>\n",
       "      <td>0.04</td>\n",
       "      <td>0.008</td>\n",
       "      <td>0.0016</td>\n",
       "      <td>0.472</td>\n",
       "      <td>0.0944</td>\n",
       "    </tr>\n",
       "    <tr>\n",
       "      <th>1</th>\n",
       "      <td>0.6</td>\n",
       "      <td>2.55</td>\n",
       "      <td>0.36</td>\n",
       "      <td>0.216</td>\n",
       "      <td>0.1296</td>\n",
       "      <td>1.530</td>\n",
       "      <td>0.9180</td>\n",
       "    </tr>\n",
       "    <tr>\n",
       "      <th>2</th>\n",
       "      <td>1.2</td>\n",
       "      <td>2.89</td>\n",
       "      <td>1.44</td>\n",
       "      <td>1.728</td>\n",
       "      <td>2.0736</td>\n",
       "      <td>3.468</td>\n",
       "      <td>4.1616</td>\n",
       "    </tr>\n",
       "    <tr>\n",
       "      <th>3</th>\n",
       "      <td>1.9</td>\n",
       "      <td>3.34</td>\n",
       "      <td>3.61</td>\n",
       "      <td>6.859</td>\n",
       "      <td>13.0321</td>\n",
       "      <td>6.346</td>\n",
       "      <td>12.0574</td>\n",
       "    </tr>\n",
       "    <tr>\n",
       "      <th>4</th>\n",
       "      <td>2.8</td>\n",
       "      <td>3.98</td>\n",
       "      <td>7.84</td>\n",
       "      <td>21.952</td>\n",
       "      <td>61.4656</td>\n",
       "      <td>11.144</td>\n",
       "      <td>31.2032</td>\n",
       "    </tr>\n",
       "    <tr>\n",
       "      <th>5</th>\n",
       "      <td>3.5</td>\n",
       "      <td>4.87</td>\n",
       "      <td>12.25</td>\n",
       "      <td>42.875</td>\n",
       "      <td>150.0625</td>\n",
       "      <td>17.045</td>\n",
       "      <td>59.6575</td>\n",
       "    </tr>\n",
       "    <tr>\n",
       "      <th>6</th>\n",
       "      <td>3.7</td>\n",
       "      <td>5.65</td>\n",
       "      <td>13.69</td>\n",
       "      <td>50.653</td>\n",
       "      <td>187.4161</td>\n",
       "      <td>20.905</td>\n",
       "      <td>77.3485</td>\n",
       "    </tr>\n",
       "    <tr>\n",
       "      <th>7</th>\n",
       "      <td>4.3</td>\n",
       "      <td>6.83</td>\n",
       "      <td>18.49</td>\n",
       "      <td>79.507</td>\n",
       "      <td>341.8801</td>\n",
       "      <td>29.369</td>\n",
       "      <td>126.2867</td>\n",
       "    </tr>\n",
       "    <tr>\n",
       "      <th>8</th>\n",
       "      <td>4.9</td>\n",
       "      <td>7.92</td>\n",
       "      <td>24.01</td>\n",
       "      <td>117.649</td>\n",
       "      <td>576.4801</td>\n",
       "      <td>38.808</td>\n",
       "      <td>190.1592</td>\n",
       "    </tr>\n",
       "    <tr>\n",
       "      <th>9</th>\n",
       "      <td>5.7</td>\n",
       "      <td>9.44</td>\n",
       "      <td>32.49</td>\n",
       "      <td>185.193</td>\n",
       "      <td>1055.6001</td>\n",
       "      <td>53.808</td>\n",
       "      <td>306.7056</td>\n",
       "    </tr>\n",
       "    <tr>\n",
       "      <th>10</th>\n",
       "      <td>6.1</td>\n",
       "      <td>11.04</td>\n",
       "      <td>37.21</td>\n",
       "      <td>226.981</td>\n",
       "      <td>1384.5841</td>\n",
       "      <td>67.344</td>\n",
       "      <td>410.7984</td>\n",
       "    </tr>\n",
       "    <tr>\n",
       "      <th>11</th>\n",
       "      <td>6.5</td>\n",
       "      <td>12.89</td>\n",
       "      <td>42.25</td>\n",
       "      <td>274.625</td>\n",
       "      <td>1785.0625</td>\n",
       "      <td>83.785</td>\n",
       "      <td>544.6025</td>\n",
       "    </tr>\n",
       "  </tbody>\n",
       "</table>\n",
       "</div>"
      ],
      "text/plain": [
       "     Xi     Yi   Xi^2     Xi^3       Xi^4   Xi Yi   Xi^2 Yi\n",
       "0   0.2   2.36   0.04    0.008     0.0016   0.472    0.0944\n",
       "1   0.6   2.55   0.36    0.216     0.1296   1.530    0.9180\n",
       "2   1.2   2.89   1.44    1.728     2.0736   3.468    4.1616\n",
       "3   1.9   3.34   3.61    6.859    13.0321   6.346   12.0574\n",
       "4   2.8   3.98   7.84   21.952    61.4656  11.144   31.2032\n",
       "5   3.5   4.87  12.25   42.875   150.0625  17.045   59.6575\n",
       "6   3.7   5.65  13.69   50.653   187.4161  20.905   77.3485\n",
       "7   4.3   6.83  18.49   79.507   341.8801  29.369  126.2867\n",
       "8   4.9   7.92  24.01  117.649   576.4801  38.808  190.1592\n",
       "9   5.7   9.44  32.49  185.193  1055.6001  53.808  306.7056\n",
       "10  6.1  11.04  37.21  226.981  1384.5841  67.344  410.7984\n",
       "11  6.5  12.89  42.25  274.625  1785.0625  83.785  544.6025"
      ]
     },
     "metadata": {},
     "output_type": "display_data"
    },
    {
     "data": {
      "text/html": [
       "<div>\n",
       "<style scoped>\n",
       "    .dataframe tbody tr th:only-of-type {\n",
       "        vertical-align: middle;\n",
       "    }\n",
       "\n",
       "    .dataframe tbody tr th {\n",
       "        vertical-align: top;\n",
       "    }\n",
       "\n",
       "    .dataframe thead th {\n",
       "        text-align: right;\n",
       "    }\n",
       "</style>\n",
       "<table border=\"1\" class=\"dataframe\">\n",
       "  <thead>\n",
       "    <tr style=\"text-align: right;\">\n",
       "      <th></th>\n",
       "      <th>Xi</th>\n",
       "      <th>Yi</th>\n",
       "      <th>Xi^2</th>\n",
       "      <th>Xi^3</th>\n",
       "      <th>Xi^4</th>\n",
       "      <th>Xi Yi</th>\n",
       "      <th>Xi^2 Yi</th>\n",
       "    </tr>\n",
       "  </thead>\n",
       "  <tbody>\n",
       "    <tr>\n",
       "      <th>0</th>\n",
       "      <td>41.4</td>\n",
       "      <td>73.76</td>\n",
       "      <td>193.68</td>\n",
       "      <td>1008.246</td>\n",
       "      <td>5557.788</td>\n",
       "      <td>334.024</td>\n",
       "      <td>1763.993</td>\n",
       "    </tr>\n",
       "  </tbody>\n",
       "</table>\n",
       "</div>"
      ],
      "text/plain": [
       "     Xi     Yi    Xi^2      Xi^3      Xi^4    Xi Yi   Xi^2 Yi\n",
       "0  41.4  73.76  193.68  1008.246  5557.788  334.024  1763.993"
      ]
     },
     "metadata": {},
     "output_type": "display_data"
    }
   ],
   "source": [
    "xi_2 = pow(datos_dataframe['X'], 2)\n",
    "xi_3 = pow(datos_dataframe['X'], 3)\n",
    "xi_4 = pow(datos_dataframe['X'], 4)\n",
    "xi_yi = datos_dataframe['X']*datos_dataframe['Y']\n",
    "xi_2_yi = xi_2*datos_dataframe['Y']\n",
    "\n",
    "tabla2 = pd.concat([datos_dataframe['X'], datos_dataframe['Y'], xi_2, xi_3, xi_4, xi_yi, xi_2_yi], axis=1)\n",
    "tabla2.columns = ['Xi', 'Yi', 'Xi^2', 'Xi^3', 'Xi^4', 'Xi Yi', 'Xi^2 Yi']\n",
    "    \n",
    "tabla2_sums = pd.DataFrame([sum(tabla2['Xi']), sum(tabla2['Yi']), sum(tabla2['Xi^2']), sum(tabla2['Xi^3']), sum(tabla2['Xi^4']), sum(tabla2['Xi Yi']), sum(tabla2['Xi^2 Yi'])]).transpose()\n",
    "tabla2_sums.columns=['Xi', 'Yi', 'Xi^2', 'Xi^3', 'Xi^4', 'Xi Yi', 'Xi^2 Yi']\n",
    "display(tabla2, tabla2_sums)"
   ]
  },
  {
   "cell_type": "markdown",
   "id": "b5255c21",
   "metadata": {},
   "source": [
    "Planteo del sistema:\n",
    "\n",
    "$$A_1*5557.788+A_2*1008.246+A_3*193.68=1763.993$$\n",
    "\n",
    "$$A_1*1008.246+A_2*193.68+A_3*41.4=334.024$$\n",
    "$$A_1*193.68+A_2*41.4+A_3*12=73.76$$\n",
    "\n",
    "Ecuaciones de Gauss-Seidel\n",
    "\n",
    "$$A_1^{K+1}=A_2^k*(-1008.246/5557.788)A_3^k*(-193.68/5557.788)+(1763.993/5557.788)$$\n",
    "\n",
    "$$A_2^{K+1}=A_1^{K+1}*(-1008.246/193.68)+A_3^k*(-41.4/193.68)+(334.024/193.68)$$\n",
    "\n",
    "$$A_3^{K+1}=A_1^{K+1}*(-193.68/12)+A_2^{K+1}*(-41.4/12)+(73.76/12)$$"
   ]
  },
  {
   "cell_type": "markdown",
   "id": "6bc775a2",
   "metadata": {},
   "source": [
    "Polinomio aproximante:\n",
    "$$P(x)=0.255529618189472*x^2-0.143398273502509x+2.51714300600557$$\n",
    "\n",
    "Graficos - Parabola de minimos cuadrados hallada por aproximacion + nube de puntos"
   ]
  },
  {
   "cell_type": "code",
   "execution_count": 43,
   "id": "4c0247bd",
   "metadata": {},
   "outputs": [
    {
     "data": {
      "text/plain": [
       "[<matplotlib.lines.Line2D at 0x7f5352a77850>]"
      ]
     },
     "execution_count": 43,
     "metadata": {},
     "output_type": "execute_result"
    },
    {
     "data": {
      "image/png": "[encoded data removed]",
      "text/plain": [
       "<Figure size 432x288 with 1 Axes>"
      ]
     },
     "metadata": {
      "needs_background": "light"
     },
     "output_type": "display_data"
    }
   ],
   "source": [
    "x = np.linspace(0,6.5,100)\n",
    "y = 0.255529618189472*pow(x,2)-0.143398273502509*x+2.51714300600557\n",
    "\n",
    "plt.plot(x, y, '-r', label='P(x)=0.255529618189472*x^2-0.143398273502509x+2.51714300600557')\n",
    "\n",
    "plt.plot(datos_dataframe['X'], datos_dataframe['Y'], 'o')"
   ]
  },
  {
   "cell_type": "markdown",
   "id": "0e9ed7b8",
   "metadata": {},
   "source": [
    "# Punto d)\n",
    "\n",
    "Modelo:\n",
    "$$y =\\frac{a}{x+b}$$\n",
    "\n",
    "Cambio de variables:\n",
    "$$\\frac{1}{y}=\\frac{x}{a}+\\frac{b}{a}$$\n",
    "   \n",
    "$$Y=\\frac{1}{y}; A_1=\\frac{1}{a}; A_2=\\frac{b}{a}$$\n",
    "\n",
    "Ecuacion lineal propuesta\n",
    "$$Y=A_1*x+A_2$$"
   ]
  },
  {
   "cell_type": "code",
   "execution_count": 44,
   "id": "54f36653",
   "metadata": {},
   "outputs": [
    {
     "data": {
      "text/html": [
       "<div>\n",
       "<style scoped>\n",
       "    .dataframe tbody tr th:only-of-type {\n",
       "        vertical-align: middle;\n",
       "    }\n",
       "\n",
       "    .dataframe tbody tr th {\n",
       "        vertical-align: top;\n",
       "    }\n",
       "\n",
       "    .dataframe thead th {\n",
       "        text-align: right;\n",
       "    }\n",
       "</style>\n",
       "<table border=\"1\" class=\"dataframe\">\n",
       "  <thead>\n",
       "    <tr style=\"text-align: right;\">\n",
       "      <th></th>\n",
       "      <th>xi</th>\n",
       "      <th>Yi</th>\n",
       "      <th>xi^2</th>\n",
       "      <th>xi Yi</th>\n",
       "    </tr>\n",
       "  </thead>\n",
       "  <tbody>\n",
       "    <tr>\n",
       "      <th>0</th>\n",
       "      <td>0.2</td>\n",
       "      <td>0.423729</td>\n",
       "      <td>0.04</td>\n",
       "      <td>0.084746</td>\n",
       "    </tr>\n",
       "    <tr>\n",
       "      <th>1</th>\n",
       "      <td>0.6</td>\n",
       "      <td>0.392157</td>\n",
       "      <td>0.36</td>\n",
       "      <td>0.235294</td>\n",
       "    </tr>\n",
       "    <tr>\n",
       "      <th>2</th>\n",
       "      <td>1.2</td>\n",
       "      <td>0.346021</td>\n",
       "      <td>1.44</td>\n",
       "      <td>0.415225</td>\n",
       "    </tr>\n",
       "    <tr>\n",
       "      <th>3</th>\n",
       "      <td>1.9</td>\n",
       "      <td>0.299401</td>\n",
       "      <td>3.61</td>\n",
       "      <td>0.568862</td>\n",
       "    </tr>\n",
       "    <tr>\n",
       "      <th>4</th>\n",
       "      <td>2.8</td>\n",
       "      <td>0.251256</td>\n",
       "      <td>7.84</td>\n",
       "      <td>0.703518</td>\n",
       "    </tr>\n",
       "    <tr>\n",
       "      <th>5</th>\n",
       "      <td>3.5</td>\n",
       "      <td>0.205339</td>\n",
       "      <td>12.25</td>\n",
       "      <td>0.718686</td>\n",
       "    </tr>\n",
       "    <tr>\n",
       "      <th>6</th>\n",
       "      <td>3.7</td>\n",
       "      <td>0.176991</td>\n",
       "      <td>13.69</td>\n",
       "      <td>0.654867</td>\n",
       "    </tr>\n",
       "    <tr>\n",
       "      <th>7</th>\n",
       "      <td>4.3</td>\n",
       "      <td>0.146413</td>\n",
       "      <td>18.49</td>\n",
       "      <td>0.629575</td>\n",
       "    </tr>\n",
       "    <tr>\n",
       "      <th>8</th>\n",
       "      <td>4.9</td>\n",
       "      <td>0.126263</td>\n",
       "      <td>24.01</td>\n",
       "      <td>0.618687</td>\n",
       "    </tr>\n",
       "    <tr>\n",
       "      <th>9</th>\n",
       "      <td>5.7</td>\n",
       "      <td>0.105932</td>\n",
       "      <td>32.49</td>\n",
       "      <td>0.603814</td>\n",
       "    </tr>\n",
       "    <tr>\n",
       "      <th>10</th>\n",
       "      <td>6.1</td>\n",
       "      <td>0.090580</td>\n",
       "      <td>37.21</td>\n",
       "      <td>0.552536</td>\n",
       "    </tr>\n",
       "    <tr>\n",
       "      <th>11</th>\n",
       "      <td>6.5</td>\n",
       "      <td>0.077580</td>\n",
       "      <td>42.25</td>\n",
       "      <td>0.504267</td>\n",
       "    </tr>\n",
       "  </tbody>\n",
       "</table>\n",
       "</div>"
      ],
      "text/plain": [
       "     xi        Yi   xi^2     xi Yi\n",
       "0   0.2  0.423729   0.04  0.084746\n",
       "1   0.6  0.392157   0.36  0.235294\n",
       "2   1.2  0.346021   1.44  0.415225\n",
       "3   1.9  0.299401   3.61  0.568862\n",
       "4   2.8  0.251256   7.84  0.703518\n",
       "5   3.5  0.205339  12.25  0.718686\n",
       "6   3.7  0.176991  13.69  0.654867\n",
       "7   4.3  0.146413  18.49  0.629575\n",
       "8   4.9  0.126263  24.01  0.618687\n",
       "9   5.7  0.105932  32.49  0.603814\n",
       "10  6.1  0.090580  37.21  0.552536\n",
       "11  6.5  0.077580  42.25  0.504267"
      ]
     },
     "metadata": {},
     "output_type": "display_data"
    },
    {
     "data": {
      "text/html": [
       "<div>\n",
       "<style scoped>\n",
       "    .dataframe tbody tr th:only-of-type {\n",
       "        vertical-align: middle;\n",
       "    }\n",
       "\n",
       "    .dataframe tbody tr th {\n",
       "        vertical-align: top;\n",
       "    }\n",
       "\n",
       "    .dataframe thead th {\n",
       "        text-align: right;\n",
       "    }\n",
       "</style>\n",
       "<table border=\"1\" class=\"dataframe\">\n",
       "  <thead>\n",
       "    <tr style=\"text-align: right;\">\n",
       "      <th></th>\n",
       "      <th>xi</th>\n",
       "      <th>Yi</th>\n",
       "      <th>xi^2</th>\n",
       "      <th>xi Yi</th>\n",
       "    </tr>\n",
       "  </thead>\n",
       "  <tbody>\n",
       "    <tr>\n",
       "      <th>0</th>\n",
       "      <td>41.4</td>\n",
       "      <td>2.641661</td>\n",
       "      <td>193.68</td>\n",
       "      <td>6.290077</td>\n",
       "    </tr>\n",
       "  </tbody>\n",
       "</table>\n",
       "</div>"
      ],
      "text/plain": [
       "     xi        Yi    xi^2     xi Yi\n",
       "0  41.4  2.641661  193.68  6.290077"
      ]
     },
     "metadata": {},
     "output_type": "display_data"
    }
   ],
   "source": [
    "Yi = 1/datos_dataframe['Y']\n",
    "xi_2 = pow(datos_dataframe['X'], 2)\n",
    "xi_Yi = datos_dataframe['X']*Yi\n",
    "\n",
    "tabla1 = pd.concat([datos_dataframe['X'], Yi, xi_2, xi_Yi], axis=1)\n",
    "tabla1.columns = ['xi', 'Yi', 'xi^2', 'xi Yi']\n",
    "\n",
    "tabla1_sums = pd.DataFrame([sum(tabla1['xi']), sum(tabla1['Yi']), sum(tabla1['xi^2']), sum(tabla1['xi Yi'])]).transpose()\n",
    "tabla1_sums.columns=['xi', 'Yi', 'xi^2', 'xi Yi']\n",
    "\n",
    "display(tabla1, tabla1_sums)"
   ]
  },
  {
   "cell_type": "markdown",
   "id": "e64c92db",
   "metadata": {},
   "source": [
    "Sistema de ecuaciones normales:\n",
    "$$A_1\\sum_{n=0}^{11}{x_i}^2+A_2\\sum_{n=0}^{11}{x_i} =\\sum_{n=0}^{11}{f({x_i}){x_i}}$$\n",
    "\n",
    "$$A_1\\sum_{n=0}^{11}{x_i}+A_2*n=\\sum_{n=0}^{11}{f({x_i})}$$\n",
    "\n",
    "Planteo de las ecuaciones normales\n",
    "\n",
    "$$A_1*193.68+A_2*41.4=6.290077$$\n",
    "$$A_1*41.4+A_2*12=2.641661$$\n",
    "\n",
    "$$A_1=\\frac{6.290077-A_2*41.4}{193.68}$$\n",
    "$$A_2=\\frac{2.641661-A_1*41.4}{12}$$\n",
    "\n",
    "Ecuaciones de Jacobi\n",
    "$$A_1^{k+1}=-A_2^k*(41.4/193.68)+(6.290077/193.68)$$\n",
    "$$A_2^{k+1}=-A_1^k*(41.4/12)+(2.641661/12)$$"
   ]
  },
  {
   "cell_type": "code",
   "execution_count": 45,
   "id": "2e445127",
   "metadata": {},
   "outputs": [
    {
     "data": {
      "text/plain": [
       "'T de Jacobi'"
      ]
     },
     "metadata": {},
     "output_type": "display_data"
    },
    {
     "data": {
      "text/html": [
       "<div>\n",
       "<style scoped>\n",
       "    .dataframe tbody tr th:only-of-type {\n",
       "        vertical-align: middle;\n",
       "    }\n",
       "\n",
       "    .dataframe tbody tr th {\n",
       "        vertical-align: top;\n",
       "    }\n",
       "\n",
       "    .dataframe thead th {\n",
       "        text-align: right;\n",
       "    }\n",
       "</style>\n",
       "<table border=\"1\" class=\"dataframe\">\n",
       "  <thead>\n",
       "    <tr style=\"text-align: right;\">\n",
       "      <th></th>\n",
       "      <th>0</th>\n",
       "      <th>1</th>\n",
       "    </tr>\n",
       "  </thead>\n",
       "  <tbody>\n",
       "    <tr>\n",
       "      <th>0</th>\n",
       "      <td>0.00</td>\n",
       "      <td>-0.213755</td>\n",
       "    </tr>\n",
       "    <tr>\n",
       "      <th>1</th>\n",
       "      <td>-3.45</td>\n",
       "      <td>0.000000</td>\n",
       "    </tr>\n",
       "  </tbody>\n",
       "</table>\n",
       "</div>"
      ],
      "text/plain": [
       "      0         1\n",
       "0  0.00 -0.213755\n",
       "1 -3.45  0.000000"
      ]
     },
     "metadata": {},
     "output_type": "display_data"
    },
    {
     "data": {
      "text/plain": [
       "'C'"
      ]
     },
     "metadata": {},
     "output_type": "display_data"
    },
    {
     "data": {
      "text/html": [
       "<div>\n",
       "<style scoped>\n",
       "    .dataframe tbody tr th:only-of-type {\n",
       "        vertical-align: middle;\n",
       "    }\n",
       "\n",
       "    .dataframe tbody tr th {\n",
       "        vertical-align: top;\n",
       "    }\n",
       "\n",
       "    .dataframe thead th {\n",
       "        text-align: right;\n",
       "    }\n",
       "</style>\n",
       "<table border=\"1\" class=\"dataframe\">\n",
       "  <thead>\n",
       "    <tr style=\"text-align: right;\">\n",
       "      <th></th>\n",
       "      <th>0</th>\n",
       "    </tr>\n",
       "  </thead>\n",
       "  <tbody>\n",
       "    <tr>\n",
       "      <th>0</th>\n",
       "      <td>0.032477</td>\n",
       "    </tr>\n",
       "    <tr>\n",
       "      <th>1</th>\n",
       "      <td>0.220138</td>\n",
       "    </tr>\n",
       "  </tbody>\n",
       "</table>\n",
       "</div>"
      ],
      "text/plain": [
       "          0\n",
       "0  0.032477\n",
       "1  0.220138"
      ]
     },
     "metadata": {},
     "output_type": "display_data"
    },
    {
     "data": {
      "text/plain": [
       "'A Inicial'"
      ]
     },
     "metadata": {},
     "output_type": "display_data"
    },
    {
     "data": {
      "text/html": [
       "<div>\n",
       "<style scoped>\n",
       "    .dataframe tbody tr th:only-of-type {\n",
       "        vertical-align: middle;\n",
       "    }\n",
       "\n",
       "    .dataframe tbody tr th {\n",
       "        vertical-align: top;\n",
       "    }\n",
       "\n",
       "    .dataframe thead th {\n",
       "        text-align: right;\n",
       "    }\n",
       "</style>\n",
       "<table border=\"1\" class=\"dataframe\">\n",
       "  <thead>\n",
       "    <tr style=\"text-align: right;\">\n",
       "      <th></th>\n",
       "      <th>0</th>\n",
       "    </tr>\n",
       "  </thead>\n",
       "  <tbody>\n",
       "    <tr>\n",
       "      <th>0</th>\n",
       "      <td>0</td>\n",
       "    </tr>\n",
       "    <tr>\n",
       "      <th>1</th>\n",
       "      <td>0</td>\n",
       "    </tr>\n",
       "  </tbody>\n",
       "</table>\n",
       "</div>"
      ],
      "text/plain": [
       "   0\n",
       "0  0\n",
       "1  0"
      ]
     },
     "metadata": {},
     "output_type": "display_data"
    },
    {
     "data": {
      "text/plain": [
       "'A a las 100 iteraciones'"
      ]
     },
     "metadata": {},
     "output_type": "display_data"
    },
    {
     "data": {
      "text/html": [
       "<div>\n",
       "<style scoped>\n",
       "    .dataframe tbody tr th:only-of-type {\n",
       "        vertical-align: middle;\n",
       "    }\n",
       "\n",
       "    .dataframe tbody tr th {\n",
       "        vertical-align: top;\n",
       "    }\n",
       "\n",
       "    .dataframe thead th {\n",
       "        text-align: right;\n",
       "    }\n",
       "</style>\n",
       "<table border=\"1\" class=\"dataframe\">\n",
       "  <thead>\n",
       "    <tr style=\"text-align: right;\">\n",
       "      <th></th>\n",
       "      <th>0</th>\n",
       "    </tr>\n",
       "  </thead>\n",
       "  <tbody>\n",
       "    <tr>\n",
       "      <th>0</th>\n",
       "      <td>-0.055529</td>\n",
       "    </tr>\n",
       "    <tr>\n",
       "      <th>1</th>\n",
       "      <td>0.411714</td>\n",
       "    </tr>\n",
       "  </tbody>\n",
       "</table>\n",
       "</div>"
      ],
      "text/plain": [
       "          0\n",
       "0 -0.055529\n",
       "1  0.411714"
      ]
     },
     "metadata": {},
     "output_type": "display_data"
    }
   ],
   "source": [
    "T_Jacobi = np.matrix([[0, -(41.4/193.68)],[-(41.4/12), 0]])\n",
    "display(\"T de Jacobi\", pd.DataFrame(T_Jacobi))\n",
    "C_Jacobi = np.matrix([[(6.290077/193.68)],[(2.641661/12)]])\n",
    "display(\"C\", pd.DataFrame(C_Jacobi))\n",
    "\n",
    "A_Jacobi = np.matrix([[0],[0]])\n",
    "A_Jacobi_anterior = A_Jacobi\n",
    "display(\"A Inicial\", pd.DataFrame(A_Jacobi))\n",
    "\n",
    "for i in range(0,100):\n",
    "    A_Jacobi = T_Jacobi*A_Jacobi_anterior+C_Jacobi\n",
    "    A_Jacobi_anterior = A_Jacobi\n",
    "\n",
    "display(\"A a las 100 iteraciones\" ,pd.DataFrame(A_Jacobi))"
   ]
  },
  {
   "cell_type": "markdown",
   "id": "17b9ca65",
   "metadata": {},
   "source": [
    "Recordando:\n",
    "$$Y=\\frac{1}{y}; A_1=\\frac{1}{a}; A_2=\\frac{b}{a}$$\n",
    "\n",
    "Valores de a y b calculados\n",
    "$$-0.055529=\\frac{1}{a}$$\n",
    "\n",
    "$$0.411714=\\frac{b}{a}$$\n",
    "\n",
    "$$a=-18.008608; b=-7.414396$$\n",
    "\n",
    "Funcion aproximante:\n",
    "$$y=\\frac{-18.008608}{x-7.414396}$$\n",
    "\n",
    "Graficos - aproximacion por modelo + nube de puntos"
   ]
  },
  {
   "cell_type": "code",
   "execution_count": 46,
   "id": "18ab930e",
   "metadata": {},
   "outputs": [
    {
     "data": {
      "text/plain": [
       "[<matplotlib.lines.Line2D at 0x7f53528eb0a0>]"
      ]
     },
     "execution_count": 46,
     "metadata": {},
     "output_type": "execute_result"
    },
    {
     "data": {
      "image/png": "[encoded data removed]",
      "text/plain": [
       "<Figure size 432x288 with 1 Axes>"
      ]
     },
     "metadata": {
      "needs_background": "light"
     },
     "output_type": "display_data"
    }
   ],
   "source": [
    "x = np.linspace(0,6.5,100)\n",
    "y = (-18.008608114678815)/(x-7.41439)\n",
    "plt.plot(x, y, '-r', label='P(x)=(-18.008608114678815/x)+2.428870')\n",
    "\n",
    "plt.plot(datos_dataframe['X'], datos_dataframe['Y'], 'o')"
   ]
  },
  {
   "cell_type": "markdown",
   "id": "887e7ff9",
   "metadata": {},
   "source": [
    "# Punto e)\n",
    "\n",
    "Modelo:\\n\",\n",
    "$$y =a*b^x $$\n",
    "\n",
    "Cambio de variables:\n",
    "$$\\ln{y}=\\ln{a}+\\ln{b}*x$$\n",
    "\n",
    "$$Y=\\ln{y}; A_1=\\ln{b}; A_2=\\ln{a}$$\n",
    "\n",
    "Ecuacion lineal propuesta\n",
    "$$Y=A_1*x+A_2$$"
   ]
  },
  {
   "cell_type": "code",
   "execution_count": 47,
   "id": "dfc3de0e",
   "metadata": {},
   "outputs": [
    {
     "data": {
      "text/html": [
       "<div>\n",
       "<style scoped>\n",
       "    .dataframe tbody tr th:only-of-type {\n",
       "        vertical-align: middle;\n",
       "    }\n",
       "\n",
       "    .dataframe tbody tr th {\n",
       "        vertical-align: top;\n",
       "    }\n",
       "\n",
       "    .dataframe thead th {\n",
       "        text-align: right;\n",
       "    }\n",
       "</style>\n",
       "<table border=\"1\" class=\"dataframe\">\n",
       "  <thead>\n",
       "    <tr style=\"text-align: right;\">\n",
       "      <th></th>\n",
       "      <th>xi</th>\n",
       "      <th>Yi</th>\n",
       "      <th>xi^2</th>\n",
       "      <th>xi Yi</th>\n",
       "    </tr>\n",
       "  </thead>\n",
       "  <tbody>\n",
       "    <tr>\n",
       "      <th>0</th>\n",
       "      <td>0.2</td>\n",
       "      <td>0.858662</td>\n",
       "      <td>0.04</td>\n",
       "      <td>0.171732</td>\n",
       "    </tr>\n",
       "    <tr>\n",
       "      <th>1</th>\n",
       "      <td>0.6</td>\n",
       "      <td>0.936093</td>\n",
       "      <td>0.36</td>\n",
       "      <td>0.561656</td>\n",
       "    </tr>\n",
       "    <tr>\n",
       "      <th>2</th>\n",
       "      <td>1.2</td>\n",
       "      <td>1.061257</td>\n",
       "      <td>1.44</td>\n",
       "      <td>1.273508</td>\n",
       "    </tr>\n",
       "    <tr>\n",
       "      <th>3</th>\n",
       "      <td>1.9</td>\n",
       "      <td>1.205971</td>\n",
       "      <td>3.61</td>\n",
       "      <td>2.291345</td>\n",
       "    </tr>\n",
       "    <tr>\n",
       "      <th>4</th>\n",
       "      <td>2.8</td>\n",
       "      <td>1.381282</td>\n",
       "      <td>7.84</td>\n",
       "      <td>3.867589</td>\n",
       "    </tr>\n",
       "    <tr>\n",
       "      <th>5</th>\n",
       "      <td>3.5</td>\n",
       "      <td>1.583094</td>\n",
       "      <td>12.25</td>\n",
       "      <td>5.540829</td>\n",
       "    </tr>\n",
       "    <tr>\n",
       "      <th>6</th>\n",
       "      <td>3.7</td>\n",
       "      <td>1.731656</td>\n",
       "      <td>13.69</td>\n",
       "      <td>6.407126</td>\n",
       "    </tr>\n",
       "    <tr>\n",
       "      <th>7</th>\n",
       "      <td>4.3</td>\n",
       "      <td>1.921325</td>\n",
       "      <td>18.49</td>\n",
       "      <td>8.261696</td>\n",
       "    </tr>\n",
       "    <tr>\n",
       "      <th>8</th>\n",
       "      <td>4.9</td>\n",
       "      <td>2.069391</td>\n",
       "      <td>24.01</td>\n",
       "      <td>10.140017</td>\n",
       "    </tr>\n",
       "    <tr>\n",
       "      <th>9</th>\n",
       "      <td>5.7</td>\n",
       "      <td>2.244956</td>\n",
       "      <td>32.49</td>\n",
       "      <td>12.796249</td>\n",
       "    </tr>\n",
       "    <tr>\n",
       "      <th>10</th>\n",
       "      <td>6.1</td>\n",
       "      <td>2.401525</td>\n",
       "      <td>37.21</td>\n",
       "      <td>14.649303</td>\n",
       "    </tr>\n",
       "    <tr>\n",
       "      <th>11</th>\n",
       "      <td>6.5</td>\n",
       "      <td>2.556452</td>\n",
       "      <td>42.25</td>\n",
       "      <td>16.616937</td>\n",
       "    </tr>\n",
       "  </tbody>\n",
       "</table>\n",
       "</div>"
      ],
      "text/plain": [
       "     xi        Yi   xi^2      xi Yi\n",
       "0   0.2  0.858662   0.04   0.171732\n",
       "1   0.6  0.936093   0.36   0.561656\n",
       "2   1.2  1.061257   1.44   1.273508\n",
       "3   1.9  1.205971   3.61   2.291345\n",
       "4   2.8  1.381282   7.84   3.867589\n",
       "5   3.5  1.583094  12.25   5.540829\n",
       "6   3.7  1.731656  13.69   6.407126\n",
       "7   4.3  1.921325  18.49   8.261696\n",
       "8   4.9  2.069391  24.01  10.140017\n",
       "9   5.7  2.244956  32.49  12.796249\n",
       "10  6.1  2.401525  37.21  14.649303\n",
       "11  6.5  2.556452  42.25  16.616937"
      ]
     },
     "metadata": {},
     "output_type": "display_data"
    },
    {
     "data": {
      "text/html": [
       "<div>\n",
       "<style scoped>\n",
       "    .dataframe tbody tr th:only-of-type {\n",
       "        vertical-align: middle;\n",
       "    }\n",
       "\n",
       "    .dataframe tbody tr th {\n",
       "        vertical-align: top;\n",
       "    }\n",
       "\n",
       "    .dataframe thead th {\n",
       "        text-align: right;\n",
       "    }\n",
       "</style>\n",
       "<table border=\"1\" class=\"dataframe\">\n",
       "  <thead>\n",
       "    <tr style=\"text-align: right;\">\n",
       "      <th></th>\n",
       "      <th>xi</th>\n",
       "      <th>Yi</th>\n",
       "      <th>xi^2</th>\n",
       "      <th>xi Yi</th>\n",
       "    </tr>\n",
       "  </thead>\n",
       "  <tbody>\n",
       "    <tr>\n",
       "      <th>0</th>\n",
       "      <td>41.4</td>\n",
       "      <td>19.951662</td>\n",
       "      <td>193.68</td>\n",
       "      <td>82.577986</td>\n",
       "    </tr>\n",
       "  </tbody>\n",
       "</table>\n",
       "</div>"
      ],
      "text/plain": [
       "     xi         Yi    xi^2      xi Yi\n",
       "0  41.4  19.951662  193.68  82.577986"
      ]
     },
     "metadata": {},
     "output_type": "display_data"
    }
   ],
   "source": [
    "Yi = np.log(datos_dataframe['Y'])\n",
    "xi_2 = pow(datos_dataframe['X'], 2)\n",
    "xi_Yi = datos_dataframe['X']*Yi\n",
    "\n",
    "tabla1 = pd.concat([datos_dataframe['X'], Yi, xi_2, xi_Yi], axis=1)\n",
    "tabla1.columns = ['xi', 'Yi', 'xi^2', 'xi Yi']\n",
    "\n",
    "tabla1_sums = pd.DataFrame([sum(tabla1['xi']), sum(tabla1['Yi']), sum(tabla1['xi^2']), sum(tabla1['xi Yi'])]).transpose()\n",
    "tabla1_sums.columns=['xi', 'Yi', 'xi^2', 'xi Yi']\n",
    "\n",
    "display(tabla1, tabla1_sums)"
   ]
  },
  {
   "cell_type": "markdown",
   "id": "3a3c94a4",
   "metadata": {},
   "source": [
    "Sistema de ecuaciones normales:\n",
    "$$A_1\\sum_{n=0}^{11}{x_i}^2+A_2\\sum_{n=0}^{11}{x_i} =\\sum_{n=0}^{11}{f({x_i}){x_i}}$$\n",
    "\n",
    "$$A_1\\sum_{n=0}^{11}{x_i}+A_2*n=\\sum_{n=0}^{11}{f({x_i})}$$\n",
    "\n",
    "Planteo de ecuaciones normales\n",
    "$$A_1*193.68+A_2*41.4=82.577986$$\n",
    "$$A_1*41.4+A_2*12=19.951662$$\n",
    "\n",
    "$$A_1=\\frac{82.577986-A_2*41.4}{193.68}$$\n",
    "$$A_2=\\frac{19.951662-A_1*41.4}{12}$$\n",
    "\n",
    "Ecuaciones de Jacobi\\n\",\n",
    "$$A_1^{k+1}=-A_2^k*(41.4/193.68)+(82.577986/193.68)$$\n",
    "$$A_2^{k+1}=-A_1^k*(41.4/12)+(19.951662/12)$$"
   ]
  },
  {
   "cell_type": "code",
   "execution_count": 48,
   "id": "8f398de1",
   "metadata": {},
   "outputs": [
    {
     "data": {
      "text/plain": [
       "'T de Jacobi'"
      ]
     },
     "metadata": {},
     "output_type": "display_data"
    },
    {
     "data": {
      "text/html": [
       "<div>\n",
       "<style scoped>\n",
       "    .dataframe tbody tr th:only-of-type {\n",
       "        vertical-align: middle;\n",
       "    }\n",
       "\n",
       "    .dataframe tbody tr th {\n",
       "        vertical-align: top;\n",
       "    }\n",
       "\n",
       "    .dataframe thead th {\n",
       "        text-align: right;\n",
       "    }\n",
       "</style>\n",
       "<table border=\"1\" class=\"dataframe\">\n",
       "  <thead>\n",
       "    <tr style=\"text-align: right;\">\n",
       "      <th></th>\n",
       "      <th>0</th>\n",
       "      <th>1</th>\n",
       "    </tr>\n",
       "  </thead>\n",
       "  <tbody>\n",
       "    <tr>\n",
       "      <th>0</th>\n",
       "      <td>0.00</td>\n",
       "      <td>-0.213755</td>\n",
       "    </tr>\n",
       "    <tr>\n",
       "      <th>1</th>\n",
       "      <td>-3.45</td>\n",
       "      <td>0.000000</td>\n",
       "    </tr>\n",
       "  </tbody>\n",
       "</table>\n",
       "</div>"
      ],
      "text/plain": [
       "      0         1\n",
       "0  0.00 -0.213755\n",
       "1 -3.45  0.000000"
      ]
     },
     "metadata": {},
     "output_type": "display_data"
    },
    {
     "data": {
      "text/plain": [
       "'C'"
      ]
     },
     "metadata": {},
     "output_type": "display_data"
    },
    {
     "data": {
      "text/html": [
       "<div>\n",
       "<style scoped>\n",
       "    .dataframe tbody tr th:only-of-type {\n",
       "        vertical-align: middle;\n",
       "    }\n",
       "\n",
       "    .dataframe tbody tr th {\n",
       "        vertical-align: top;\n",
       "    }\n",
       "\n",
       "    .dataframe thead th {\n",
       "        text-align: right;\n",
       "    }\n",
       "</style>\n",
       "<table border=\"1\" class=\"dataframe\">\n",
       "  <thead>\n",
       "    <tr style=\"text-align: right;\">\n",
       "      <th></th>\n",
       "      <th>0</th>\n",
       "    </tr>\n",
       "  </thead>\n",
       "  <tbody>\n",
       "    <tr>\n",
       "      <th>0</th>\n",
       "      <td>0.426363</td>\n",
       "    </tr>\n",
       "    <tr>\n",
       "      <th>1</th>\n",
       "      <td>1.662638</td>\n",
       "    </tr>\n",
       "  </tbody>\n",
       "</table>\n",
       "</div>"
      ],
      "text/plain": [
       "          0\n",
       "0  0.426363\n",
       "1  1.662638"
      ]
     },
     "metadata": {},
     "output_type": "display_data"
    },
    {
     "data": {
      "text/plain": [
       "'A Inicial'"
      ]
     },
     "metadata": {},
     "output_type": "display_data"
    },
    {
     "data": {
      "text/html": [
       "<div>\n",
       "<style scoped>\n",
       "    .dataframe tbody tr th:only-of-type {\n",
       "        vertical-align: middle;\n",
       "    }\n",
       "\n",
       "    .dataframe tbody tr th {\n",
       "        vertical-align: top;\n",
       "    }\n",
       "\n",
       "    .dataframe thead th {\n",
       "        text-align: right;\n",
       "    }\n",
       "</style>\n",
       "<table border=\"1\" class=\"dataframe\">\n",
       "  <thead>\n",
       "    <tr style=\"text-align: right;\">\n",
       "      <th></th>\n",
       "      <th>0</th>\n",
       "    </tr>\n",
       "  </thead>\n",
       "  <tbody>\n",
       "    <tr>\n",
       "      <th>0</th>\n",
       "      <td>0</td>\n",
       "    </tr>\n",
       "    <tr>\n",
       "      <th>1</th>\n",
       "      <td>0</td>\n",
       "    </tr>\n",
       "  </tbody>\n",
       "</table>\n",
       "</div>"
      ],
      "text/plain": [
       "   0\n",
       "0  0\n",
       "1  0"
      ]
     },
     "metadata": {},
     "output_type": "display_data"
    },
    {
     "data": {
      "text/plain": [
       "'A a las 100 iteraciones'"
      ]
     },
     "metadata": {},
     "output_type": "display_data"
    },
    {
     "data": {
      "text/html": [
       "<div>\n",
       "<style scoped>\n",
       "    .dataframe tbody tr th:only-of-type {\n",
       "        vertical-align: middle;\n",
       "    }\n",
       "\n",
       "    .dataframe tbody tr th {\n",
       "        vertical-align: top;\n",
       "    }\n",
       "\n",
       "    .dataframe thead th {\n",
       "        text-align: right;\n",
       "    }\n",
       "</style>\n",
       "<table border=\"1\" class=\"dataframe\">\n",
       "  <thead>\n",
       "    <tr style=\"text-align: right;\">\n",
       "      <th></th>\n",
       "      <th>0</th>\n",
       "    </tr>\n",
       "  </thead>\n",
       "  <tbody>\n",
       "    <tr>\n",
       "      <th>0</th>\n",
       "      <td>0.270300</td>\n",
       "    </tr>\n",
       "    <tr>\n",
       "      <th>1</th>\n",
       "      <td>0.730104</td>\n",
       "    </tr>\n",
       "  </tbody>\n",
       "</table>\n",
       "</div>"
      ],
      "text/plain": [
       "          0\n",
       "0  0.270300\n",
       "1  0.730104"
      ]
     },
     "metadata": {},
     "output_type": "display_data"
    }
   ],
   "source": [
    "T_Jacobi = np.matrix([[0, -(41.4/193.68)],[-(41.4/12), 0]])\n",
    "display(\"T de Jacobi\", pd.DataFrame(T_Jacobi))\n",
    "C_Jacobi = np.matrix([[(82.577986/193.68)],[(19.951662/12)]])\n",
    "display(\"C\", pd.DataFrame(C_Jacobi))\n",
    "\n",
    "A_Jacobi = np.matrix([[0],[0]])\n",
    "A_Jacobi_anterior = A_Jacobi\n",
    "display(\"A Inicial\", pd.DataFrame(A_Jacobi))\n",
    "\n",
    "for i in range(0,100):\n",
    "    A_Jacobi = T_Jacobi*A_Jacobi_anterior+C_Jacobi\n",
    "    A_Jacobi_anterior = A_Jacobi\n",
    "\n",
    "display(\"A a las 100 iteraciones\" ,pd.DataFrame(A_Jacobi))"
   ]
  },
  {
   "cell_type": "markdown",
   "id": "43098f4e",
   "metadata": {},
   "source": [
    "Cambio de variables:\n",
    "\n",
    "$$A_1=0.270300=\\ln{b}; A_2=0.730104=\\ln{a}$$\n",
    "\n",
    "$$a=e^{0.730104}=2.075296; b=e^{0.270300}=1.310357$$\n",
    "\n",
    "Funcion aproximante:\n",
    "$$y=2.075296*1.310357^x$$\n",
    "\n",
    "Graficos - aproximacion por modelo + nube de puntos"
   ]
  },
  {
   "cell_type": "code",
   "execution_count": 49,
   "id": "74fe5e37",
   "metadata": {
    "scrolled": true
   },
   "outputs": [
    {
     "data": {
      "text/plain": [
       "[<matplotlib.lines.Line2D at 0x7f5352957640>]"
      ]
     },
     "execution_count": 49,
     "metadata": {},
     "output_type": "execute_result"
    },
    {
     "data": {
      "image/png": "[encoded data removed]",
      "text/plain": [
       "<Figure size 432x288 with 1 Axes>"
      ]
     },
     "metadata": {
      "needs_background": "light"
     },
     "output_type": "display_data"
    }
   ],
   "source": [
    "x = np.linspace(0,6.5,100)\n",
    "y = 2.075296*(pow(1.310357,x))\n",
    "plt.plot(x, y, '-r', label='P(x)=(-18.008608114678815/x)+2.428870')\n",
    "\n",
    "plt.plot(datos_dataframe['X'], datos_dataframe['Y'], 'o')"
   ]
  },
  {
   "cell_type": "markdown",
   "id": "ea8380cc",
   "metadata": {},
   "source": [
    "# Punto f)\n",
    "\n",
    "Por descarte podemos decir que la funcion del punto d) no es adecuada ya que presenta una asintota horizontal en x~=7.41439, luego se mantiene cercana a 0"
   ]
  },
  {
   "cell_type": "code",
   "execution_count": 50,
   "id": "27baf20f",
   "metadata": {
    "scrolled": true
   },
   "outputs": [
    {
     "data": {
      "text/plain": [
       "[<matplotlib.lines.Line2D at 0x7f53527cf0d0>]"
      ]
     },
     "execution_count": 50,
     "metadata": {},
     "output_type": "execute_result"
    },
    {
     "data": {
      "image/png": "[encoded data removed]",
      "text/plain": [
       "<Figure size 432x288 with 1 Axes>"
      ]
     },
     "metadata": {
      "needs_background": "light"
     },
     "output_type": "display_data"
    }
   ],
   "source": [
    "x = np.linspace(0,10,100)\n",
    "y = (-18.008608114678815)/(x-7.41439)\n",
    "plt.plot(x, y, '-r', label='P(x)=(-18.008608114678815/x)+2.428870')\n",
    "\n",
    "plt.plot(datos_dataframe['X'], datos_dataframe['Y'], 'o')"
   ]
  },
  {
   "cell_type": "markdown",
   "id": "226d9cf8",
   "metadata": {},
   "source": [
    "Tambien podemos descartar la recta de minimos cuadrados, ya que tenemos la parabola disponible y esta presenta un error menor"
   ]
  },
  {
   "cell_type": "code",
   "execution_count": 51,
   "id": "9b20412e",
   "metadata": {
    "scrolled": true
   },
   "outputs": [
    {
     "data": {
      "text/plain": [
       "[<matplotlib.lines.Line2D at 0x7f53537fb1f0>]"
      ]
     },
     "execution_count": 51,
     "metadata": {},
     "output_type": "execute_result"
    },
    {
     "data": {
      "image/png": "[encoded data removed]",
      "text/plain": [
       "<Figure size 432x288 with 1 Axes>"
      ]
     },
     "metadata": {
      "needs_background": "light"
     },
     "output_type": "display_data"
    }
   ],
   "source": [
    "x = np.linspace(0,6.5,100)\n",
    "\n",
    "y = 0.255529618189472*pow(x,2)-0.143398273502509*x+2.51714300600557\n",
    "\n",
    "plt.plot(x, y, '-g')\n",
    "\n",
    "x = np.linspace(0,6.5,100)\n",
    "\n",
    "y = 1.564444*x+0.749333\n",
    "\n",
    "plt.plot(x, y, '-r', label='P(x)=1.564444*x+0.749333')\n",
    "\n",
    "plt.plot(datos_dataframe['X'], datos_dataframe['Y'], 'o')"
   ]
  },
  {
   "cell_type": "markdown",
   "id": "d07c7f9f",
   "metadata": {},
   "source": [
    "Esto nos deja con la parabola de minimos cuadrados y el modelo exponencial.\n",
    "\n",
    "Al graficar ambos en un rango mas amplio, vemos que la exponencial crece mucho mas rapido que la parabola. Al alejarse del rango dado, vemos que la exponencial alcanza niveles absurdos (> 10^100 para 1 millon de subscriptores) mientras que la parabola se mantiene en amplitudes razonables.\n",
    "\n",
    "Ademas, el modelo exponencial fue calculado \"linealmente\" a traves de un cambio de variable, por lo que termina siendo inferior al modelo de parabola.\n",
    "\n",
    "Por lo tanto, el modelo que mejor se adapta en este caso es el de parabolas de minimos cuadrados.\n",
    "\n",
    "en el caso de los 20k subscriptores, ya no podemos basarnos en lo arrojado por la estimacion ya que se sale demasiado del rango original (200; 6500)"
   ]
  },
  {
   "cell_type": "code",
   "execution_count": 52,
   "id": "60477d20",
   "metadata": {},
   "outputs": [
    {
     "data": {
      "text/plain": [
       "'exponencial: 3000 subscriptores -> 46692 visitas'"
      ]
     },
     "metadata": {},
     "output_type": "display_data"
    },
    {
     "data": {
      "text/plain": [
       "'exponencial: 7000 subscriptores -> 137659 visitas'"
      ]
     },
     "metadata": {},
     "output_type": "display_data"
    },
    {
     "data": {
      "text/plain": [
       "'exponencial: 20000 subscriptores -> 4622455 visitas'"
      ]
     },
     "metadata": {},
     "output_type": "display_data"
    },
    {
     "data": {
      "text/plain": [
       "'parabola: 3000 subscriptores -> 43867 visitas'"
      ]
     },
     "metadata": {},
     "output_type": "display_data"
    },
    {
     "data": {
      "text/plain": [
       "'parabola: 7000 subscriptores -> 140343 visitas'"
      ]
     },
     "metadata": {},
     "output_type": "display_data"
    },
    {
     "data": {
      "text/plain": [
       "'parabola: 20000 subscriptores -> 1018610 visitas'"
      ]
     },
     "metadata": {},
     "output_type": "display_data"
    },
    {
     "data": {
      "text/plain": [
       "[<matplotlib.lines.Line2D at 0x7f5352873b50>]"
      ]
     },
     "execution_count": 52,
     "metadata": {},
     "output_type": "execute_result"
    },
    {
     "data": {
      "image/png": "[encoded data removed]",
      "text/plain": [
       "<Figure size 432x288 with 1 Axes>"
      ]
     },
     "metadata": {
      "needs_background": "light"
     },
     "output_type": "display_data"
    }
   ],
   "source": [
    "x = np.linspace(0,20, 100)\n",
    "\n",
    "y = 0.255529618189472*pow(x,2)-0.143398273502509*x+2.51714300600557\n",
    "display (\"exponencial: 3000 subscriptores -> %d visitas\" %(10000*(2.075296*(pow(1.310357,3)))))\n",
    "display (\"exponencial: 7000 subscriptores -> %d visitas\" %(10000*(2.075296*(pow(1.310357,7)))))\n",
    "display (\"exponencial: 20000 subscriptores -> %d visitas\" %(10000*(2.075296*(pow(1.310357,20)))))\n",
    "display (\"parabola: 3000 subscriptores -> %d visitas\" %(10000*(0.255529618189472*pow(3,2)-0.143398273502509*3+2.51714300600557)))\n",
    "display (\"parabola: 7000 subscriptores -> %d visitas\" %(10000*(0.255529618189472*pow(7,2)-0.143398273502509*7+2.51714300600557)))\n",
    "display (\"parabola: 20000 subscriptores -> %d visitas\" %(10000*(0.255529618189472*pow(20,2)-0.143398273502509*20+2.51714300600557)))\n",
    "plt.plot(x, y, '-g',label='P(x)=0.255529618189472*x^2-0.143398273502509x+2.51714300600557')\n",
    "         \n",
    "y = 2.075296*(pow(1.310357,x))\n",
    "plt.plot(x, y, '-r', label='P(x)=(-18.008608114678815/x)+2.428870')"
   ]
  }
 ],
 "metadata": {
  "kernelspec": {
   "display_name": "Python 3 (ipykernel)",
   "language": "python",
   "name": "python3"
  },
  "language_info": {
   "codemirror_mode": {
    "name": "ipython",
    "version": 3
   },
   "file_extension": ".py",
   "mimetype": "text/x-python",
   "name": "python",
   "nbconvert_exporter": "python",
   "pygments_lexer": "ipython3",
   "version": "3.10.5"
  }
 },
 "nbformat": 4,
 "nbformat_minor": 5
}
